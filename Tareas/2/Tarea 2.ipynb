{
 "cells": [
  {
   "cell_type": "markdown",
   "id": "spare-license",
   "metadata": {},
   "source": [
    "1. Programe el algoritmo de Metrópolis-Hastings (MH) con caminata aleatoria Gaussiana para la distribución de propuesta en el lenguaje de programación de su preferencia para simular $\\left(X_{1}, X_{2}\\right)$ tales que $X_{1}, X_{2}$ marginalmente tienen distribución $\\operatorname{Beta}(0.5,0.5)$ y Gamma $(20,4)$ respectivamente $\\mathrm{y}$ estructura de dependencia dada por una cópula de Clayton con parámetro $\\theta \\in\\{0.1,1,10\\}$. (4 pts)\n"
   ]
  },
  {
   "cell_type": "code",
   "execution_count": null,
   "id": "raising-isolation",
   "metadata": {},
   "outputs": [],
   "source": []
  },
  {
   "cell_type": "markdown",
   "id": "sought-province",
   "metadata": {},
   "source": [
    "2. Muestre directamente que el algoritmo de Gibbs satisace la condición de balance detallado (en particular no es valido para el ejercicio usar que el algoritmo de Gibbs puede ser interpretado como caso particular de Metropolis-Hastings). (2 pts)\n"
   ]
  },
  {
   "cell_type": "code",
   "execution_count": 1,
   "id": "after-julian",
   "metadata": {},
   "outputs": [
    {
     "ename": "ERROR",
     "evalue": "Error in library(copula): there is no package called 'copula'\n",
     "output_type": "error",
     "traceback": [
      "Error in library(copula): there is no package called 'copula'\nTraceback:\n",
      "1. library(copula)"
     ]
    }
   ],
   "source": [
    "library(copula)\n",
    "d <- 3\n",
    "cc <- claytonCopula(4, dim = d) # theta = 4\n",
    "\n",
    "set.seed(2013)\n",
    "n <- 5\n",
    "u <- matrix(runif(n * d), nrow = n) # random points in the unit hypercube\n",
    "pCopula(u, copula = cc) # copula values at u\n",
    "\n",
    "dCopula(u, copula = cc) # density values at u\n",
    "\n",
    "set.seed(271)\n",
    "U <- rCopula(1000, copula = cc)\n",
    "splom2(U, cex = 0.3, col.mat = \"black\")"
   ]
  },
  {
   "cell_type": "markdown",
   "id": "challenging-target",
   "metadata": {},
   "source": [
    "3. Sean $n, d$ enteros positivos, $\\mu_{0} \\in \\mathbb{R}, \\boldsymbol{\\alpha}=\\left(\\alpha_{1}, \\ldots, \\alpha_{d}\\right) \\in\\left(\\mathbb{R}^{+}\\right)^{d} \\mathrm{y} \\alpha, \\beta, \\nu \\in \\mathbb{R}^{+}$. Considere\n",
    "el modelo probabilístico\n",
    "$$\n",
    "\\begin{aligned}\n",
    "\\lambda_{j} & \\sim \\operatorname{Gamma}(\\alpha, \\beta), & & j \\in\\{1, \\ldots, d\\} \\\\\n",
    "& \\Pi \\sim \\operatorname{Dirichlet}(\\boldsymbol{\\alpha}) & & \\\\\n",
    "Z_{i} \\mid \\Pi=\\pi & \\sim \\text { Categorico }(\\boldsymbol{\\pi}), & & i \\in\\{1, \\ldots, n\\} \\\\\n",
    "X_{i} \\mid Z_{i}=j, \\boldsymbol{\\lambda}, & \\sim \\operatorname{Poisson}\\left(\\lambda_{j}\\right), & i \\in\\{1, \\ldots, n\\}\n",
    "\\end{aligned}\n",
    "$$\n",
    "Determine las distribuciones condicionales\n",
    "donde $\\boldsymbol{v}_{\\cup}=\\left(v_{1}, \\ldots, v_{j-1}, v_{j+1}, \\ldots v_{d}\\right)$ es el vector conformado por las entradas de $\\boldsymbol{v}$ en orden sin incluir la entrada $j$. Recuerde que la densidad de una distribución Dirichlet está dada por\n",
    "$$\n",
    "f_{\\text {Dir }(\\alpha)}(x)=\\left(\\Gamma\\left(\\sum_{j+1}^{d} \\alpha_{j}\\right)\\right)^{-1} \\prod_{j=1}^{d} \\Gamma\\left(\\alpha_{j}\\right) x_{j}^{\\alpha_{j}-1}\n",
    "$$\n",
    "Implemente el muuestreador de Gibbs para $\\boldsymbol{\\lambda}, \\boldsymbol{\\pi}, \\boldsymbol{Z} \\mid X$ utilizando las distribuciones condicionales anteriores. (4 pts)"
   ]
  },
  {
   "cell_type": "code",
   "execution_count": null,
   "id": "jewish-offering",
   "metadata": {},
   "outputs": [],
   "source": []
  }
 ],
 "metadata": {
  "kernelspec": {
   "display_name": "R",
   "language": "R",
   "name": "ir"
  },
  "language_info": {
   "codemirror_mode": "r",
   "file_extension": ".r",
   "mimetype": "text/x-r-source",
   "name": "R",
   "pygments_lexer": "r",
   "version": "3.6.1"
  }
 },
 "nbformat": 4,
 "nbformat_minor": 5
}
