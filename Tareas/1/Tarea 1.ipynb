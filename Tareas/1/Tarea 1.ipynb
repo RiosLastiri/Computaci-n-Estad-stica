{
 "cells": [
  {
   "cell_type": "markdown",
   "id": "hearing-destruction",
   "metadata": {
    "tags": []
   },
   "source": [
    "**Armando Rios Lastiri**\n",
    "\n",
    "# Tarea 1"
   ]
  },
  {
   "cell_type": "markdown",
   "id": "floating-stopping",
   "metadata": {},
   "source": [
    "## Ejercicio 1 (Algoritmo Aceptación-Rechazo)"
   ]
  },
  {
   "cell_type": "markdown",
   "id": "going-brief",
   "metadata": {},
   "source": [
    "Sea $f(x \\mid \\theta)$ una función de densidad para un conjunto de datos y $\\pi(\\theta)$ una función de densidad a priori para el parámetro $\\theta .$ Dada la muestra $x=x_{1}, \\ldots, x_{n}$, la distribución posteriori de $\\theta$ es\n",
    "$$\n",
    "\\pi(\\theta \\mid x)=\\pi\\left(\\theta \\mid x_{1}, \\ldots, x_{n}\\right) \\propto \\prod_{i=1}^{n} f\\left(x_{i} \\mid \\theta\\right) \\pi(\\theta)\n",
    "$$\n",
    "donde $\\prod_{i=1}^{n} f\\left(x_{i} \\mid \\theta\\right)=L\\left(\\theta \\mid x_{1}, \\ldots, x_{n}\\right)$ es la función de verosimilitud."
   ]
  },
  {
   "cell_type": "markdown",
   "id": "attempted-palestinian",
   "metadata": {},
   "source": [
    "a) Si $\\pi(\\theta \\mid x)$ es la función objetivo en un algoritmo de Aceptación-Rechazo, y si $\\pi(\\theta)$ es nuestra función candidato, muestre que la cota superior óptima $M$ es la función de verosimilitud evaluada en el MLE."
   ]
  },
  {
   "cell_type": "markdown",
   "id": "brief-photography",
   "metadata": {},
   "source": [
    "En el algortimo de aceptacion-rechazo aceptamos $X=Y$ si se cumple que\n",
    "$$\n",
    "U \\leq \\frac{c f(Y)}{M g(Y)}\n",
    "$$\n",
    "Donde la probabilidad de aceptacion es $\\frac{c}{M}$. Mientras mas acerque a 1 esta probabilidad mas eficiente es este algoritmo por tanto en caso de que tuvieramos $c=1$ corresponderia a que $g=f$ por lo que podriamos re escribir la desigualdad anterior de la siguiente manera.\n",
    "$$\n",
    "0 \\leq U \\leq \\frac{f(Y)}{g(Y)} \\leq  1\n",
    "$$\n",
    "Para encontrar la cota optima $M$ se debe encontrar $\\frac{f(Y)}{g(Y)}$ que se acerque a 1 lo mas posible por lo que debemos de encontrar $max{\\frac{f(Y)}{g(Y)}}$  donde $f(Y)=\\pi(\\theta \\mid x)$ y $g(Y)=\\pi(\\theta)$ \n",
    "$$\n",
    "M_{opt}= \\max{\\frac{f(Y)}{g(Y)}} = \\max{\\frac{\\pi(\\theta \\mid x)}{\\pi(\\theta)}} = \\max{\\frac{\\pi(x\\mid \\theta ) * \\pi(\\theta)}{\\pi(\\theta)}} = \\max{\\pi(x\\mid \\theta )}\n",
    "$$\n",
    "Por lo que $M_{opt}$ es la funcion de verosimilitud evaluda en el MLE."
   ]
  },
  {
   "cell_type": "markdown",
   "id": "objective-browse",
   "metadata": {},
   "source": [
    "b) Para estimar la media de una normal estándar, una distribución a priori robusta es la distribución Cauchy. Dado $X_{i} \\sim \\mathcal{N}(\\theta, 1), \\theta \\sim \\mathcal{C}(0,1)$ la distribución a posteriori es\n",
    "$$\n",
    "\\pi(\\theta \\mid x) \\propto \\frac{1}{\\pi} \\frac{1}{1+\\theta^{2}} \\frac{1}{2 \\pi} \\prod_{i=1}^{n} \\exp ^{-\\left(x_{i}-\\theta\\right)^{2} / 2}\n",
    "$$"
   ]
  },
  {
   "cell_type": "markdown",
   "id": "creative-capital",
   "metadata": {},
   "source": [
    "Fijemos $\\theta_{0}=3, n=10$, y generemos $X_{1}, \\ldots, X_{n} \\sim \\mathcal{N}\\left(\\theta_{0}, 1\\right) .$ Utilice el algoritmo de Aceptación-Rechazo con distribución auxiliar Cauchy $\\mathcal{C}(0,1)$ para generar muestras de la distribución a posteriori:"
   ]
  },
  {
   "cell_type": "markdown",
   "id": "standing-innocent",
   "metadata": {},
   "source": [
    "- Genere 10,000 muestras de esta Cauchy, calcule la tasa de aceptación y obtenga la\n",
    "media de las muestras aceptadas. "
   ]
  },
  {
   "cell_type": "code",
   "execution_count": 1,
   "id": "future-fleece",
   "metadata": {},
   "outputs": [],
   "source": [
    "set.seed(0)"
   ]
  },
  {
   "cell_type": "code",
   "execution_count": 2,
   "id": "inappropriate-participant",
   "metadata": {},
   "outputs": [
    {
     "name": "stdout",
     "output_type": "stream",
     "text": [
      "Número de generaciones =  448492\n",
      "Número medio de generaciones =  44.8492\n",
      "Proporción de rechazos =  0.9777031 \n"
     ]
    },
    {
     "data": {
      "image/png": "[encoded data removed]",
      "text/plain": [
       "Plot with title \"Distribución a posteriori\""
      ]
     },
     "metadata": {},
     "output_type": "display_data"
    }
   ],
   "source": [
    "aceptacion.rechazo<-function(media,n,nsim){\n",
    "    x <-rnorm(n,mean =media,sd = 1)\n",
    "    # Función de verosimilitud\n",
    "    lik <-function(mu){(1/(pi*(1+mu^2)))*prod(dnorm(x,mean =mu))}\n",
    "    # Cota óptima\n",
    "    # Estimación por máxima verosimilitud\n",
    "    emv <-optimize(f =lik,int =range(x),maximum =TRUE)\n",
    "    c <-lik(mean(x))\n",
    "    ngen <-nsim\n",
    "    Y <-rcauchy(nsim)\n",
    "    ind <-(c*runif(nsim)>sapply(Y, lik))# TRUE si no verifica condición\n",
    "\n",
    "    while(sum(ind)>0){\n",
    "      le <-sum(ind)\n",
    "      ngen <-ngen+le\n",
    "      Y[ind] <-rcauchy(le)\n",
    "      ind[ind] <-(c*runif(le)>sapply(Y[ind], lik))# TRUE si no verifica condición\n",
    "    }\n",
    "\n",
    "    {\n",
    "      cat(\"Número de generaciones = \", ngen)\n",
    "      cat(\"\\nNúmero medio de generaciones = \", ngen/nsim)\n",
    "      cat(\"\\nProporción de rechazos = \",1-nsim/ngen,\"\\n\")\n",
    "    }\n",
    "\n",
    "    q <-quantile(Y,c(0.025,0.975))\n",
    "    hist(Y,freq=FALSE,main=\"Distribución a posteriori\")\n",
    "    abline(v =mean(Y),lty =2,lwd =2)\n",
    "    abline(v =q,lty =2)\n",
    "    return (Y)\n",
    "}\n",
    "\n",
    "mu0 <-3\n",
    "n<-10\n",
    "nsim <-10000\n",
    "aceptacion_rechazo10=aceptacion.rechazo(mu0,n,nsim)"
   ]
  },
  {
   "cell_type": "markdown",
   "id": "sixth-hartford",
   "metadata": {},
   "source": [
    "- Evalúe qué tan bien se aproxima esta media a $\\theta_{0}$. "
   ]
  },
  {
   "cell_type": "code",
   "execution_count": 3,
   "id": "literary-palestine",
   "metadata": {},
   "outputs": [
    {
     "name": "stdout",
     "output_type": "stream",
     "text": [
      "Aproximacion de la media =  3.247595"
     ]
    }
   ],
   "source": [
    "cat(\"Aproximacion de la media = \", mean(aceptacion_rechazo10))"
   ]
  },
  {
   "cell_type": "markdown",
   "id": "divided-python",
   "metadata": {},
   "source": [
    "- Repita los dos procedimientos anteriores pero ahora contemplando n = 100 y\n",
    "n = 500 para las muestras iniciales X1, … , Xn. ¿Qué tanto se mejora esta estimación\n",
    "al aumentar el número de muestras n? "
   ]
  },
  {
   "cell_type": "markdown",
   "id": "suited-premiere",
   "metadata": {},
   "source": [
    "Para 100 muestras."
   ]
  },
  {
   "cell_type": "code",
   "execution_count": 4,
   "id": "controlled-lodging",
   "metadata": {},
   "outputs": [
    {
     "name": "stdout",
     "output_type": "stream",
     "text": [
      "Número de generaciones =  1242523\n",
      "Número medio de generaciones =  124.2523\n",
      "Proporción de rechazos =  0.9919519 \n"
     ]
    },
    {
     "data": {
      "image/png": "[encoded data removed]",
      "text/plain": [
       "Plot with title \"Distribución a posteriori\""
      ]
     },
     "metadata": {},
     "output_type": "display_data"
    }
   ],
   "source": [
    "mu0 <-3\n",
    "n<-100\n",
    "nsim <-10000\n",
    "aceptacion_rechazo100=aceptacion.rechazo(mu0,n,nsim)"
   ]
  },
  {
   "cell_type": "code",
   "execution_count": 5,
   "id": "resident-enclosure",
   "metadata": {},
   "outputs": [
    {
     "name": "stdout",
     "output_type": "stream",
     "text": [
      "Aproximacion de la media =  2.959028"
     ]
    }
   ],
   "source": [
    "cat(\"Aproximacion de la media = \", mean(aceptacion_rechazo100))"
   ]
  },
  {
   "cell_type": "markdown",
   "id": "educational-exhibit",
   "metadata": {},
   "source": [
    "Para 500 muestras."
   ]
  },
  {
   "cell_type": "code",
   "execution_count": 6,
   "id": "immune-extra",
   "metadata": {},
   "outputs": [
    {
     "name": "stdout",
     "output_type": "stream",
     "text": [
      "Número de generaciones =  2769618\n",
      "Número medio de generaciones =  276.9618\n",
      "Proporción de rechazos =  0.9963894 \n"
     ]
    },
    {
     "data": {
      "image/png": "[encoded data removed]",
      "text/plain": [
       "Plot with title \"Distribución a posteriori\""
      ]
     },
     "metadata": {},
     "output_type": "display_data"
    }
   ],
   "source": [
    "mu0 <-3\n",
    "n<-500\n",
    "nsim <-10000\n",
    "aceptacion_rechazo500=aceptacion.rechazo(mu0,n,nsim)"
   ]
  },
  {
   "cell_type": "code",
   "execution_count": 7,
   "id": "dietary-amino",
   "metadata": {},
   "outputs": [
    {
     "name": "stdout",
     "output_type": "stream",
     "text": [
      "Aproximacion de la media =  2.995494"
     ]
    }
   ],
   "source": [
    "cat(\"Aproximacion de la media = \", mean(aceptacion_rechazo500))"
   ]
  },
  {
   "cell_type": "markdown",
   "id": "least-founder",
   "metadata": {},
   "source": [
    "## Ejercicio 2 (Transformada Inversa y muestreo por importancia)"
   ]
  },
  {
   "cell_type": "markdown",
   "id": "billion-muscle",
   "metadata": {},
   "source": [
    "a) Muestre que para simular $Y \\sim \\operatorname{Exp}^{+}(a, 1)$, una distribución truncada por la izquierda por $a$, basta con simular $X \\sim \\operatorname{Exp}(1)$  y tomar $Y=a+X$."
   ]
  },
  {
   "cell_type": "markdown",
   "id": "maritime-eleven",
   "metadata": {},
   "source": [
    "Queremos demostrar $\\lambda e^{-\\lambda (y-a)} $\n",
    "\n",
    "Sabemos que $f(x)=\\lambda e^{-\\lambda x} \\quad x \\geq 0$\n",
    "$$\n",
    "F(y)=P(y \\leq a+X)=P(X > y-a)=1-F(y-a)=\n",
    "1-(1-\\lambda e^{-\\lambda x}) =\\lambda e^{-\\lambda (y-a)} \n",
    "$$"
   ]
  },
  {
   "cell_type": "markdown",
   "id": "egyptian-typing",
   "metadata": {},
   "source": [
    "b) Use el método de muestreo por importancia proponiendo una variable aleatoria $X$ adecuada para calcular la probabilidades $P(U>25)$ y $P(T>50) \\operatorname{con} U \\sim \\chi_{3}^{2}$ y $T \\sim t_{5} .$"
   ]
  },
  {
   "cell_type": "markdown",
   "id": "introductory-generation",
   "metadata": {},
   "source": [
    "Para $P(U>25)$ con $U \\sim \\chi_{3}^{2}$ se propuso $X \\sim Cauchy (x_{0}=0,\\gamma=2.5)$"
   ]
  },
  {
   "cell_type": "code",
   "execution_count": 8,
   "id": "meaning-jewelry",
   "metadata": {},
   "outputs": [
    {
     "data": {
      "image/png": "[encoded data removed]",
      "text/plain": [
       "plot without title"
      ]
     },
     "metadata": {},
     "output_type": "display_data"
    }
   ],
   "source": [
    "x<-rcauchy(1000)\n",
    "escala<-0.00001\n",
    "inicio<-50\n",
    "fin<-100\n",
    "nsim <- 10^3\n",
    "\n",
    "curve(dt(x,df=5), inicio, fin) #P(T>50)\n",
    "curve(dcauchy(x,scale = 2.5)*escala,inicio,fin ,add = TRUE, lty = 2)\n",
    "abline(v = inicio)#Linea vertical del truncamiento\n",
    "abline(h = 0)#Linea horizontal del origen"
   ]
  },
  {
   "cell_type": "code",
   "execution_count": 9,
   "id": "honest-consciousness",
   "metadata": {},
   "outputs": [
    {
     "name": "stdout",
     "output_type": "stream",
     "text": [
      "Aproximación por simulacion:  1.785057 \n",
      "Error estandar de la aproximación:  0.03414086"
     ]
    },
    {
     "data": {
      "image/png": "[encoded data removed]",
      "text/plain": [
       "plot without title"
      ]
     },
     "metadata": {},
     "output_type": "display_data"
    }
   ],
   "source": [
    "y <- rcauchy(nsim)\n",
    "w <- dt(y,df=5)/dcauchy(y,scale = 2.5)\n",
    "plot(cumsum(w)/1:nsim, type = \"l\", ylab = \"Aproximación\", xlab = \"Iteraciones\")\n",
    "abline(h =mean(w), lty = 2)\n",
    "\n",
    "#mean(w * h(y))\n",
    "cat(\"Aproximación por simulacion: \",mean(w),\"\\n\" )\n",
    "\n",
    "# sd(w*h(y))/sqrt(nsim)\n",
    "cat(\"Error estandar de la aproximación: \", sqrt(var(w)/nsim) )"
   ]
  },
  {
   "cell_type": "markdown",
   "id": "determined-translator",
   "metadata": {},
   "source": [
    "Para $P(T>50)$ con $T \\sim t_{5}$ se propuso $X \\sim N (\\mu=25,\\sigma=5)$."
   ]
  },
  {
   "cell_type": "code",
   "execution_count": 10,
   "id": "double-tuning",
   "metadata": {},
   "outputs": [
    {
     "data": {
      "image/png": "[encoded data removed]",
      "text/plain": [
       "plot without title"
      ]
     },
     "metadata": {},
     "output_type": "display_data"
    }
   ],
   "source": [
    "x<-rnorm(1000)\n",
    "inicio<-25\n",
    "fin<-40\n",
    "nsim <- 10^3\n",
    "escala<-0.0001\n",
    "\n",
    "curve(dchisq(x,df=3), inicio, fin) #P(U>25)\n",
    "curve(dnorm(x,mean = 25,sd = 5)*escala, inicio, fin ,add = TRUE, lty = 2) \n",
    "abline(v = inicio)\n",
    "abline(h = 0)"
   ]
  },
  {
   "cell_type": "code",
   "execution_count": 11,
   "id": "catholic-praise",
   "metadata": {},
   "outputs": [
    {
     "name": "stdout",
     "output_type": "stream",
     "text": [
      "Aproximación por simulacion:  16.67015 \n",
      "Error estandar de la aproximación:  0.5927664"
     ]
    },
    {
     "data": {
      "image/png": "[encoded data removed]",
      "text/plain": [
       "plot without title"
      ]
     },
     "metadata": {},
     "output_type": "display_data"
    }
   ],
   "source": [
    "y <- rnorm(nsim) # Y ~ g\n",
    "w <- dchisq(x,df=3)/dnorm(x,mean = 25,sd = 5)*escala\n",
    "plot(cumsum(w)/1:nsim, type = \"l\", ylab = \"Aproximación\", xlab = \"Iteraciones\")\n",
    "abline(h =mean(w), lty = 2)\n",
    "\n",
    "#mean(w * h(y))\n",
    "cat(\"Aproximación por simulacion: \",mean(w) ,\"\\n\")\n",
    "\n",
    "# sd(w*h(y))/sqrt(nsim)\n",
    "cat(\"Error estandar de la aproximación: \", sqrt(var(w)/nsim) )"
   ]
  },
  {
   "cell_type": "markdown",
   "id": "permanent-papua",
   "metadata": {},
   "source": [
    "## Ejercicio 3 (Técnicas de reducción de varianza)"
   ]
  },
  {
   "cell_type": "markdown",
   "id": "certified-mother",
   "metadata": {},
   "source": [
    "Queremos calcular la siguiente integral vía Monte-Carlo:\n",
    "$$\n",
    "\\mu=\\int_{0}^{1} g(x)=\\int_{0}^{1}(1-x) e^{-x^{2}} d x=0.4307639\n",
    "$$"
   ]
  },
  {
   "cell_type": "markdown",
   "id": "forbidden-domain",
   "metadata": {},
   "source": [
    "1) Exprese la integral anterior en términos de la esperanza de una variable aleatoria con soporte en el intervalo [0, 1]. \n",
    "\n",
    "$$\n",
    "\\mu=\\int_{0}^{1} h(x) d x\\\\\n",
    "$$\n",
    "    Si  $x_{1}, x_{2}, \\ldots, x_{n}$  i.i.d. $\\mathcal{U}(0,1)$ entonces:\n",
    "$$\n",
    "\\mu=E(h(\\mathcal{U}(0,1))) \\approx \\frac{1}{n} \\sum_{i=1}^{n} h\\left(x_{i}\\right)\n",
    "$$"
   ]
  },
  {
   "cell_type": "markdown",
   "id": "unknown-billy",
   "metadata": {},
   "source": [
    "2) En todos los casos, obtenga el error de la estimación del 95 % * y considere n = 1, 000 número de muestras a generar:"
   ]
  },
  {
   "cell_type": "markdown",
   "id": "metropolitan-spank",
   "metadata": {},
   "source": [
    "Graficamos la funcion que queremos estimar."
   ]
  },
  {
   "cell_type": "code",
   "execution_count": 12,
   "id": "handled-orleans",
   "metadata": {},
   "outputs": [
    {
     "data": {
      "image/png": "[encoded data removed]",
      "text/plain": [
       "plot without title"
      ]
     },
     "metadata": {},
     "output_type": "display_data"
    }
   ],
   "source": [
    "n<-1000 #muestras\n",
    "fun <- function(x) ifelse((x > 0) & (x < 1), (1-x)*exp(-x^2), 0)\n",
    "curve(fun, 0, 1)\n",
    "abline(h = 0, lty = 2)\n",
    "abline(v = c(0, 1), lty = 2)"
   ]
  },
  {
   "cell_type": "code",
   "execution_count": 14,
   "id": "functioning-jamaica",
   "metadata": {},
   "outputs": [
    {
     "name": "stdout",
     "output_type": "stream",
     "text": [
      "Estimacion de µ con Monte-Carlo utilizando variables aleatorias uniformes:  0.4296851"
     ]
    }
   ],
   "source": [
    "mc.uniformes <- function(fun, a, b, n) {\n",
    "    x<- runif(n, a, b)\n",
    "    fx <- sapply(x, fun) \n",
    "    return(mean(fx) * (b - a))\n",
    "}\n",
    "mc_uniformes<-mc.uniformes(fun, 0, 1, n)\n",
    "cat(\"Estimacion de μ con Monte-Carlo utilizando variables aleatorias uniformes: \", mean(mc_uniformes))"
   ]
  },
  {
   "cell_type": "markdown",
   "id": "african-component",
   "metadata": {},
   "source": [
    "a) Estime $\\mu$  usando el método de aceptación rechazo en el cuadrado $[0, 1]^2$\n"
   ]
  },
  {
   "cell_type": "code",
   "execution_count": 15,
   "id": "imported-enlargement",
   "metadata": {},
   "outputs": [
    {
     "name": "stdout",
     "output_type": "stream",
     "text": [
      "Estimacion de µ con Monte-Carlo en el cuadrado [0,1]:  0.5007189"
     ]
    }
   ],
   "source": [
    "aceptacion.rechazo<-function(fun,media,n,nsim){\n",
    "    x <-rnorm(n,mean =media,sd = 1)\n",
    "    emv <-optimize(f =fun,int =range(x),maximum =TRUE)\n",
    "    c <-fun(mean(x))\n",
    "    ngen <-nsim\n",
    "    Y <-runif(n, 0, 1)\n",
    "    ind <-(c*runif(nsim)>sapply(Y, fun))\n",
    "\n",
    "    while(sum(ind)>0){\n",
    "      le <-sum(ind)\n",
    "      ngen <-ngen+le\n",
    "      Y[ind] <-rcauchy(le)\n",
    "      ind[ind] <-(c*runif(le)>sapply(Y[ind], lik))\n",
    "    }\n",
    "    return (Y)\n",
    "}\n",
    "\n",
    "mu0 <-3\n",
    "nsim <-10000\n",
    "aceptacion_rechazo_cuadrado<-aceptacion.rechazo(fun,mu0,n,nsim)\n",
    "cat(\"Estimacion de μ con Monte-Carlo en el cuadrado [0,1]: \", mean(aceptacion_rechazo_cuadrado))"
   ]
  },
  {
   "cell_type": "markdown",
   "id": "pointed-mentor",
   "metadata": {},
   "source": [
    "b) Estime $\\mu$ por el método de Monte-Carlo crudo utilizando variables aleatorias uniformes.\n"
   ]
  },
  {
   "cell_type": "code",
   "execution_count": 16,
   "id": "minor-layout",
   "metadata": {},
   "outputs": [
    {
     "name": "stdout",
     "output_type": "stream",
     "text": [
      "Estimacion de µ con Monte-Carlo crudo utilizando variables aleatorias uniformes:  0.4072397"
     ]
    }
   ],
   "source": [
    "mc.uniformes <- function(fun, a, b, n, plot = TRUE) {\n",
    "    fx <- sapply(runif(n, a, b), fun) * (b - a)\n",
    "    estint <- cumsum(fx)/(1:n)\n",
    "    return (estint)\n",
    "}\n",
    "mc_uniformes<-mc.uniformes(fun, 0, 1, n)\n",
    "cat(\"Estimacion de μ con Monte-Carlo crudo utilizando variables aleatorias uniformes: \", mean(mc_uniformes))"
   ]
  },
  {
   "cell_type": "markdown",
   "id": "finished-trust",
   "metadata": {},
   "source": [
    "c) Estime $\\mu$ utilizando variables antitéticas.\n"
   ]
  },
  {
   "cell_type": "code",
   "execution_count": 17,
   "id": "removable-yacht",
   "metadata": {},
   "outputs": [
    {
     "name": "stdout",
     "output_type": "stream",
     "text": [
      "Estimacion de µ con variables antitéticas:  0.4296093"
     ]
    }
   ],
   "source": [
    "variables.antiteticas<-function(ftn, a, b, n){\n",
    "    x <- runif(n%/%2, a, b)\n",
    "    x <- as.numeric(matrix(c(x,a+b-x),nrow=2,byrow=TRUE))\n",
    "    fx <- sapply(x, ftn)*(b-a)\n",
    "    estint <- cumsum(fx)/(1:n)\n",
    "    return (estint)\n",
    "}\n",
    "variables_antiteticas<-variables.antiteticas(fun, 0, 1, n)\n",
    "cat(\"Estimacion de μ con variables antitéticas: \", mean(variables_antiteticas))"
   ]
  },
  {
   "cell_type": "markdown",
   "id": "unlike-jacksonville",
   "metadata": {},
   "source": [
    "d) Estime $\\mu$ con el método de variables de control, con $W = f (x)$ variable de control,\n",
    "donde $f (x) = 1 − x$. "
   ]
  },
  {
   "cell_type": "code",
   "execution_count": 18,
   "id": "occupied-clone",
   "metadata": {},
   "outputs": [
    {
     "data": {
      "text/html": [
       "0.992549827806467"
      ],
      "text/latex": [
       "0.992549827806467"
      ],
      "text/markdown": [
       "0.992549827806467"
      ],
      "text/plain": [
       "[1] 0.9925498"
      ]
     },
     "metadata": {},
     "output_type": "display_data"
    }
   ],
   "source": [
    "g <- function(x) ifelse((x > 0) & (x < 1), (1-x)*exp(-x^2), 0)\n",
    "f <- function(x) ifelse((x > 0) & (x < 1), 1-x, 0)\n",
    "u <- runif(n, 0,1)\n",
    "B<-f(u)\n",
    "A<-g(u)\n",
    "cor(A,B)"
   ]
  },
  {
   "cell_type": "code",
   "execution_count": 19,
   "id": "painted-harvard",
   "metadata": {},
   "outputs": [
    {
     "name": "stdout",
     "output_type": "stream",
     "text": [
      "Estimacion de µ con variables de control:  0.4164165"
     ]
    }
   ],
   "source": [
    "a<- -cov(A, B)/var(B)\n",
    "g_u <- g(u)\n",
    "variables_control<-g_u+a*(B-mean(B))\n",
    "cat(\"Estimacion de μ con variables de control: \", mean(variables_control))"
   ]
  },
  {
   "cell_type": "markdown",
   "id": "color-testimony",
   "metadata": {},
   "source": [
    "e) Compare los errores de estimación de cada uno de los estimadores utilizados. ¿Cuál\n",
    "muestra tener menor error? "
   ]
  },
  {
   "cell_type": "code",
   "execution_count": 20,
   "id": "northern-major",
   "metadata": {},
   "outputs": [],
   "source": [
    "error.estimacion<-function(Y,n){\n",
    "    s<-sd(Y)\n",
    "    return ((1.96*s)/sqrt(n))\n",
    "}"
   ]
  },
  {
   "cell_type": "code",
   "execution_count": 21,
   "id": "excited-ferry",
   "metadata": {},
   "outputs": [
    {
     "name": "stdout",
     "output_type": "stream",
     "text": [
      "Aceptacion Rechazo =  0.01744324 \n",
      "Monte-Carlo con variables aleatorias uniformes  0.001605793 \n",
      "Variables antitéticas:  0.0009094162 \n",
      "Variables de control:  0.002298542 \n"
     ]
    }
   ],
   "source": [
    "cat(\"Aceptacion Rechazo = \", error.estimacion(aceptacion_rechazo_cuadrado,n),\"\\n\")\n",
    "cat(\"Monte-Carlo con variables aleatorias uniformes \",error.estimacion(mc_uniformes,n),\"\\n\")\n",
    "cat(\"Variables antitéticas: \", error.estimacion(variables_antiteticas,n),\"\\n\")\n",
    "cat(\"Variables de control: \", error.estimacion(variables_control,n),\"\\n\")"
   ]
  },
  {
   "cell_type": "markdown",
   "id": "committed-enterprise",
   "metadata": {},
   "source": [
    "Los metodos de reducción de varianza tienen el menor error de estimación, siendo el metodo de las variables antitéticas el que tiene el menor error."
   ]
  },
  {
   "cell_type": "markdown",
   "id": "fitting-decrease",
   "metadata": {},
   "source": [
    "3) Grafique la convergencia ergódica de cada una de estos estimadores. ¿Cuál de estos resulta ser menos costoso para la estimación de $\\mu$? "
   ]
  },
  {
   "cell_type": "markdown",
   "id": "thick-extreme",
   "metadata": {},
   "source": [
    "Estimacion de μ con Monte-Carlo en el cuadrado $[0,1]^2$"
   ]
  },
  {
   "cell_type": "code",
   "execution_count": 22,
   "id": "exclusive-browse",
   "metadata": {},
   "outputs": [
    {
     "data": {
      "image/png": "[encoded data removed]",
      "text/plain": [
       "plot without title"
      ]
     },
     "metadata": {},
     "output_type": "display_data"
    }
   ],
   "source": [
    "plot(aceptacion_rechazo_cuadrado,type=\"l\", lwd = 2)\n",
    "abline(h = 0.4307639)#Linea horizontal del origen"
   ]
  },
  {
   "cell_type": "markdown",
   "id": "julian-practitioner",
   "metadata": {},
   "source": [
    "Estimacion de μ con Monte-Carlo crudo utilizando variables aleatorias uniformes"
   ]
  },
  {
   "cell_type": "code",
   "execution_count": 23,
   "id": "japanese-triumph",
   "metadata": {},
   "outputs": [
    {
     "data": {
      "image/png": "[encoded data removed]",
      "text/plain": [
       "plot without title"
      ]
     },
     "metadata": {},
     "output_type": "display_data"
    }
   ],
   "source": [
    "plot(mc_uniformes,type=\"l\", lwd = 2)\n",
    "abline(h = 0.4307639)"
   ]
  },
  {
   "cell_type": "markdown",
   "id": "conscious-pixel",
   "metadata": {},
   "source": [
    "Estimacion de μ con variables antitéticas"
   ]
  },
  {
   "cell_type": "code",
   "execution_count": 24,
   "id": "nuclear-valve",
   "metadata": {},
   "outputs": [
    {
     "data": {
      "image/png": "[encoded data removed]",
      "text/plain": [
       "plot without title"
      ]
     },
     "metadata": {},
     "output_type": "display_data"
    }
   ],
   "source": [
    "plot(variables_antiteticas,type=\"l\", lwd = 2)\n",
    "abline(h = 0.4307639)"
   ]
  },
  {
   "cell_type": "markdown",
   "id": "economic-camcorder",
   "metadata": {},
   "source": [
    "Estimacion de μ con variables de control"
   ]
  },
  {
   "cell_type": "code",
   "execution_count": 25,
   "id": "rational-victor",
   "metadata": {},
   "outputs": [
    {
     "data": {
      "image/png": "[encoded data removed]",
      "text/plain": [
       "plot without title"
      ]
     },
     "metadata": {},
     "output_type": "display_data"
    }
   ],
   "source": [
    "plot(variables_control,type=\"l\", lwd = 2)\n",
    "abline(h = 0.4307639)"
   ]
  },
  {
   "cell_type": "markdown",
   "id": "reserved-obligation",
   "metadata": {},
   "source": [
    "El método de variables antitéticas converge mas rapido al rededor de las 400 muestras por lo que es el método menos costoso para la estimación de $\\mu$"
   ]
  },
  {
   "cell_type": "code",
   "execution_count": null,
   "id": "vocational-delhi",
   "metadata": {},
   "outputs": [],
   "source": []
  }
 ],
 "metadata": {
  "kernelspec": {
   "display_name": "R",
   "language": "R",
   "name": "ir"
  },
  "language_info": {
   "codemirror_mode": "r",
   "file_extension": ".r",
   "mimetype": "text/x-r-source",
   "name": "R",
   "pygments_lexer": "r",
   "version": "3.6.1"
  }
 },
 "nbformat": 4,
 "nbformat_minor": 5
}
